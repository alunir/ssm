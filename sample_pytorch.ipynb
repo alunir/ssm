{
 "cells": [
  {
   "cell_type": "code",
   "execution_count": 6,
   "metadata": {},
   "outputs": [
    {
     "name": "stdout",
     "output_type": "stream",
     "text": [
      "Requirement already satisfied: skorch in /opt/homebrew/lib/python3.11/site-packages (0.15.0)\n",
      "Requirement already satisfied: pytorch_lightning in /opt/homebrew/lib/python3.11/site-packages (2.2.0)\n",
      "Requirement already satisfied: einops in /opt/homebrew/lib/python3.11/site-packages (0.7.0)\n",
      "Requirement already satisfied: torcheval in /opt/homebrew/lib/python3.11/site-packages (0.0.7)\n",
      "Requirement already satisfied: tqdm in /opt/homebrew/lib/python3.11/site-packages (4.65.0)\n",
      "Requirement already satisfied: numpy>=1.13.3 in /opt/homebrew/lib/python3.11/site-packages (from skorch) (1.24.3)\n",
      "Requirement already satisfied: scikit-learn>=0.22.0 in /opt/homebrew/lib/python3.11/site-packages (from skorch) (1.2.2)\n",
      "Requirement already satisfied: scipy>=1.1.0 in /opt/homebrew/lib/python3.11/site-packages (from skorch) (1.10.1)\n",
      "Requirement already satisfied: tabulate>=0.7.7 in /opt/homebrew/lib/python3.11/site-packages (from skorch) (0.9.0)\n",
      "Requirement already satisfied: torch>=1.13.0 in /opt/homebrew/lib/python3.11/site-packages (from pytorch_lightning) (2.0.1)\n",
      "Requirement already satisfied: PyYAML>=5.4 in /opt/homebrew/lib/python3.11/site-packages (from pytorch_lightning) (6.0)\n",
      "Requirement already satisfied: fsspec>=2022.5.0 in /opt/homebrew/lib/python3.11/site-packages (from fsspec[http]>=2022.5.0->pytorch_lightning) (2023.5.0)\n",
      "Requirement already satisfied: torchmetrics>=0.7.0 in /opt/homebrew/lib/python3.11/site-packages (from pytorch_lightning) (1.3.0.post0)\n",
      "Requirement already satisfied: packaging>=20.0 in /opt/homebrew/lib/python3.11/site-packages (from pytorch_lightning) (23.1)\n",
      "Requirement already satisfied: typing-extensions>=4.4.0 in /opt/homebrew/lib/python3.11/site-packages (from pytorch_lightning) (4.5.0)\n",
      "Requirement already satisfied: lightning-utilities>=0.8.0 in /opt/homebrew/lib/python3.11/site-packages (from pytorch_lightning) (0.10.1)\n",
      "Requirement already satisfied: requests in /opt/homebrew/lib/python3.11/site-packages (from fsspec[http]>=2022.5.0->pytorch_lightning) (2.31.0)\n",
      "Requirement already satisfied: aiohttp!=4.0.0a0,!=4.0.0a1 in /opt/homebrew/lib/python3.11/site-packages (from fsspec[http]>=2022.5.0->pytorch_lightning) (3.8.4)\n",
      "Requirement already satisfied: setuptools in /opt/homebrew/lib/python3.11/site-packages (from lightning-utilities>=0.8.0->pytorch_lightning) (68.2.2)\n",
      "Requirement already satisfied: joblib>=1.1.1 in /opt/homebrew/lib/python3.11/site-packages (from scikit-learn>=0.22.0->skorch) (1.2.0)\n",
      "Requirement already satisfied: threadpoolctl>=2.0.0 in /opt/homebrew/lib/python3.11/site-packages (from scikit-learn>=0.22.0->skorch) (3.1.0)\n",
      "Requirement already satisfied: filelock in /opt/homebrew/lib/python3.11/site-packages (from torch>=1.13.0->pytorch_lightning) (3.12.0)\n",
      "Requirement already satisfied: sympy in /opt/homebrew/lib/python3.11/site-packages (from torch>=1.13.0->pytorch_lightning) (1.12)\n",
      "Requirement already satisfied: networkx in /opt/homebrew/lib/python3.11/site-packages (from torch>=1.13.0->pytorch_lightning) (3.1)\n",
      "Requirement already satisfied: jinja2 in /opt/homebrew/lib/python3.11/site-packages (from torch>=1.13.0->pytorch_lightning) (3.1.2)\n",
      "Requirement already satisfied: attrs>=17.3.0 in /opt/homebrew/lib/python3.11/site-packages (from aiohttp!=4.0.0a0,!=4.0.0a1->fsspec[http]>=2022.5.0->pytorch_lightning) (23.1.0)\n",
      "Requirement already satisfied: charset-normalizer<4.0,>=2.0 in /opt/homebrew/lib/python3.11/site-packages (from aiohttp!=4.0.0a0,!=4.0.0a1->fsspec[http]>=2022.5.0->pytorch_lightning) (2.1.1)\n",
      "Requirement already satisfied: multidict<7.0,>=4.5 in /opt/homebrew/lib/python3.11/site-packages (from aiohttp!=4.0.0a0,!=4.0.0a1->fsspec[http]>=2022.5.0->pytorch_lightning) (6.0.4)\n",
      "Requirement already satisfied: async-timeout<5.0,>=4.0.0a3 in /opt/homebrew/lib/python3.11/site-packages (from aiohttp!=4.0.0a0,!=4.0.0a1->fsspec[http]>=2022.5.0->pytorch_lightning) (4.0.2)\n",
      "Requirement already satisfied: yarl<2.0,>=1.0 in /opt/homebrew/lib/python3.11/site-packages (from aiohttp!=4.0.0a0,!=4.0.0a1->fsspec[http]>=2022.5.0->pytorch_lightning) (1.9.2)\n",
      "Requirement already satisfied: frozenlist>=1.1.1 in /opt/homebrew/lib/python3.11/site-packages (from aiohttp!=4.0.0a0,!=4.0.0a1->fsspec[http]>=2022.5.0->pytorch_lightning) (1.3.3)\n",
      "Requirement already satisfied: aiosignal>=1.1.2 in /opt/homebrew/lib/python3.11/site-packages (from aiohttp!=4.0.0a0,!=4.0.0a1->fsspec[http]>=2022.5.0->pytorch_lightning) (1.3.1)\n",
      "Requirement already satisfied: MarkupSafe>=2.0 in /opt/homebrew/lib/python3.11/site-packages (from jinja2->torch>=1.13.0->pytorch_lightning) (2.1.2)\n",
      "Requirement already satisfied: idna<4,>=2.5 in /opt/homebrew/lib/python3.11/site-packages (from requests->fsspec[http]>=2022.5.0->pytorch_lightning) (3.4)\n",
      "Requirement already satisfied: urllib3<3,>=1.21.1 in /opt/homebrew/lib/python3.11/site-packages (from requests->fsspec[http]>=2022.5.0->pytorch_lightning) (1.26.15)\n",
      "Requirement already satisfied: certifi>=2017.4.17 in /opt/homebrew/lib/python3.11/site-packages (from requests->fsspec[http]>=2022.5.0->pytorch_lightning) (2022.12.7)\n",
      "Requirement already satisfied: mpmath>=0.19 in /opt/homebrew/lib/python3.11/site-packages (from sympy->torch>=1.13.0->pytorch_lightning) (1.3.0)\n",
      "^C\n",
      "\u001b[31mERROR: Operation cancelled by user\u001b[0m\u001b[31m\n",
      "\u001b[0m"
     ]
    }
   ],
   "source": [
    "!pip install skorch pytorch_lightning einops torcheval tqdm"
   ]
  },
  {
   "cell_type": "code",
   "execution_count": 1,
   "metadata": {},
   "outputs": [],
   "source": [
    "import torch\n",
    "import torch.nn as nn\n",
    "import torch.nn.functional as F\n",
    "\n",
    "from torchvision import transforms\n",
    "from torchvision.datasets import MNIST\n",
    "\n",
    "\n",
    "def create_dataloader(batch_size):\n",
    "    # target_transform = transforms.Compose([\n",
    "    #     lambda x: print(\"hoge\"),\n",
    "    #     lambda x: print(x),\n",
    "    #     torch.tensor,\n",
    "    #     lambda x: F.one_hot(x, num_classes=10),\n",
    "    # ])\n",
    "    \n",
    "    data_train = torch.utils.data.DataLoader(\n",
    "        MNIST(\n",
    "            '~/mnist_data', train=True, download=True,\n",
    "            transform=transforms.ToTensor(),\n",
    "            # target_transform=target_transform,\n",
    "        ),\n",
    "        batch_size=batch_size,\n",
    "        shuffle=True\n",
    "    )\n",
    "\n",
    "    data_test = torch.utils.data.DataLoader(\n",
    "        MNIST(\n",
    "            '~/mnist_data', train=False, download=True,\n",
    "            transform=transforms.ToTensor(),\n",
    "            # target_transform=target_transform,\n",
    "        ),\n",
    "        batch_size=batch_size,\n",
    "        shuffle=True\n",
    "    )\n",
    "\n",
    "    return data_train, data_test\n"
   ]
  },
  {
   "cell_type": "code",
   "execution_count": 2,
   "metadata": {},
   "outputs": [],
   "source": [
    "batch_size = 32\n",
    "\n",
    "trainloader, testloader = create_dataloader(batch_size=batch_size)"
   ]
  },
  {
   "cell_type": "code",
   "execution_count": 6,
   "metadata": {},
   "outputs": [],
   "source": [
    "from ssm import SingleS4Classifier\n",
    "\n",
    "model = SingleS4Classifier(\n",
    "    d_input=784,\n",
    "    d_output=10,\n",
    "    d_model=512,\n",
    "    n_layers=3,\n",
    "    dropout=[0.2]*3,\n",
    "    transposed=False,\n",
    "    s4d=True,\n",
    ")"
   ]
  },
  {
   "cell_type": "code",
   "execution_count": 7,
   "metadata": {},
   "outputs": [
    {
     "data": {
      "text/plain": [
       "SingleS4Classifier(\n",
       "  (encoder): Sequential(\n",
       "    (0): Linear(in_features=784, out_features=512, bias=True)\n",
       "    (1): GELU(approximate='none')\n",
       "  )\n",
       "  (decoder): Sequential(\n",
       "    (0): Linear(in_features=512, out_features=10, bias=True)\n",
       "    (1): LogSoftmax(dim=1)\n",
       "  )\n",
       ")"
      ]
     },
     "execution_count": 7,
     "metadata": {},
     "output_type": "execute_result"
    }
   ],
   "source": [
    "model"
   ]
  },
  {
   "cell_type": "code",
   "execution_count": null,
   "metadata": {},
   "outputs": [],
   "source": [
    "import torch\n",
    "import torch.nn as nn\n",
    "\n",
    "from tqdm.contrib import tenumerate\n",
    "\n",
    "# 損失関数  criterion：基準\n",
    "criterion = nn.CrossEntropyLoss()\n",
    "\n",
    "# 最適化法の指定  optimizer：最適化\n",
    "optimizer = torch.optim.Adam(model.parameters(), lr=1e-4)\n",
    "\n",
    "for epoch in range(10):\n",
    "    print(f\"Epoch: {epoch}\")\n",
    "    train_loss, test_loss = 0.0, 0.0\n",
    "\n",
    "    model.train()\n",
    "    for idx, samples in tenumerate(trainloader):\n",
    "        data, label = samples\n",
    "        inputs = data.view(batch_size, -1) #.cuda()\n",
    "\n",
    "        print(f\"{inputs.shape=}\") # (32, 784)\n",
    "        \n",
    "        targets = F.one_hot(label.view(batch_size), num_classes=10).float() #.cuda()\n",
    "\n",
    "        optimizer.zero_grad()\n",
    "        \n",
    "        outputs = model(inputs)\n",
    "        print(f\" {outputs.shape=}, targets = {targets.shape=}\") # (32, 10), targets = (32, 10)\n",
    "        \n",
    "        loss = criterion(outputs, targets)\n",
    "\n",
    "        loss.backward()\n",
    "        \n",
    "        optimizer.step()\n",
    "        \n",
    "        train_loss += loss.item()\n",
    "\n",
    "    print(\"train loss: \", train_loss / len(trainloader))\n",
    "\n",
    "\n",
    "    model.eval()\n",
    "    with torch.no_grad():\n",
    "        for idx, samples in enumerate(testloader):\n",
    "            data, label = samples\n",
    "            inputs = data.view(-1, 784) #.cuda()\n",
    "            targets = F.one_hot(label, num_classes=10).float() #.cuda()\n",
    "\n",
    "            outputs = model(inputs)\n",
    "            \n",
    "            loss = criterion(outputs, targets)\n",
    "            \n",
    "            test_loss += loss.item()\n",
    "\n",
    "    print(\"test loss: \", test_loss / len(testloader))\n",
    "\n"
   ]
  },
  {
   "cell_type": "code",
   "execution_count": 3,
   "metadata": {},
   "outputs": [
    {
     "name": "stderr",
     "output_type": "stream",
     "text": [
      "CUDA extension for structured kernels (Cauchy and Vandermonde multiplication) not found. Install by going to extensions/kernels/ and running `python setup.py install`, for improved speed and memory efficiency. Note that the kernel changed for state-spaces 4.0 and must be recompiled.\n",
      "Falling back on slow Cauchy and Vandermonde kernel. Install at least one of pykeops or the CUDA extension for better speed and memory efficiency.\n"
     ]
    },
    {
     "name": "stdout",
     "output_type": "stream",
     "text": [
      "No module named 'extensions'\n"
     ]
    }
   ],
   "source": [
    "from ssm import MambaClassifier, ModelArgs\n",
    "\n",
    "args = ModelArgs(\n",
    "    d_input=784,\n",
    "    d_output=10,\n",
    "    d_model=1,\n",
    "    n_layer=2,\n",
    "    d_state= 10,\n",
    "    expand = 2,\n",
    "    dt_rank = \"auto\",\n",
    "    d_conv = 4,\n",
    "    conv_bias = True,\n",
    "    bias = False,\n",
    "    device = \"cpu\"\n",
    ")\n",
    "\n",
    "model = MambaClassifier(args)"
   ]
  },
  {
   "cell_type": "code",
   "execution_count": 4,
   "metadata": {},
   "outputs": [
    {
     "data": {
      "text/plain": [
       "MambaClassifier(\n",
       "  (encoder): Sequential(\n",
       "    (0): Linear(in_features=784, out_features=1, bias=True)\n",
       "    (1): GELU(approximate='none')\n",
       "  )\n",
       "  (layers): ModuleList(\n",
       "    (0-1): 2 x ResidualBlock(\n",
       "      (mixer): MambaBlock(\n",
       "        (in_proj): Linear(in_features=1, out_features=4, bias=False)\n",
       "        (conv1d): Conv1d(2, 2, kernel_size=(4,), stride=(1,), padding=(3,), groups=2)\n",
       "        (x_proj): Linear(in_features=2, out_features=21, bias=False)\n",
       "        (dt_proj): Linear(in_features=1, out_features=2, bias=True)\n",
       "        (out_proj): Linear(in_features=2, out_features=1, bias=False)\n",
       "      )\n",
       "      (norm): RMSNorm()\n",
       "    )\n",
       "  )\n",
       "  (norm_f): RMSNorm()\n",
       "  (decoder): Sequential(\n",
       "    (0): Linear(in_features=784, out_features=10, bias=True)\n",
       "    (1): LogSoftmax(dim=1)\n",
       "  )\n",
       ")"
      ]
     },
     "execution_count": 4,
     "metadata": {},
     "output_type": "execute_result"
    }
   ],
   "source": [
    "model"
   ]
  },
  {
   "cell_type": "code",
   "execution_count": 5,
   "metadata": {},
   "outputs": [
    {
     "name": "stdout",
     "output_type": "stream",
     "text": [
      "Epoch: 0\n"
     ]
    },
    {
     "data": {
      "application/vnd.jupyter.widget-view+json": {
       "model_id": "c65d3d2681584f84b56f05b2bc019f73",
       "version_major": 2,
       "version_minor": 0
      },
      "text/plain": [
       "  0%|          | 0/1875 [00:00<?, ?it/s]"
      ]
     },
     "metadata": {},
     "output_type": "display_data"
    }
   ],
   "source": [
    "import torch\n",
    "import torch.nn as nn\n",
    "\n",
    "from tqdm.contrib import tenumerate\n",
    "\n",
    "# 損失関数  criterion：基準\n",
    "criterion = nn.CrossEntropyLoss()\n",
    "\n",
    "# 最適化法の指定  optimizer：最適化\n",
    "optimizer = torch.optim.Adam(model.parameters(), lr=1e-4)\n",
    "\n",
    "for epoch in range(10):\n",
    "    print(f\"Epoch: {epoch}\")\n",
    "    train_loss, test_loss = 0.0, 0.0\n",
    "\n",
    "    model.train()\n",
    "    for idx, samples in tenumerate(trainloader):\n",
    "        data, label = samples\n",
    "        \n",
    "        # print(f\"{data.shape=}, {label.shape=}\") # (32, 1, 28, 28), (32,)\n",
    "        inputs = data.view(batch_size, -1, 1) #.cuda()\n",
    "\n",
    "        # print(f\"{inputs.shape=}\") # (32, 784, 1)\n",
    "        \n",
    "        targets = F.one_hot(label.view(batch_size), num_classes=10).float() #.cuda()\n",
    "        # targets = label.view(batch_size) \n",
    "\n",
    "        optimizer.zero_grad()\n",
    "        \n",
    "        outputs = model(inputs)\n",
    "        assert outputs.shape[1] == 10, f\"{outputs.shape=}, {targets.shape=}\"\n",
    "        # print(f\"{outputs.shape=}, {targets.shape=}\") # (32, 10), (32, 10)\n",
    "        \n",
    "        loss = criterion(outputs, targets)\n",
    "\n",
    "        loss.backward()\n",
    "        \n",
    "        optimizer.step()\n",
    "        \n",
    "        train_loss += loss.item()\n",
    "\n",
    "    print(\"train loss: \", train_loss / len(trainloader))\n",
    "\n",
    "\n",
    "    model.eval()\n",
    "    with torch.no_grad():\n",
    "        for idx, samples in enumerate(testloader):\n",
    "            data, label = samples\n",
    "            inputs = data.view(-1, 784) #.cuda()\n",
    "            targets = F.one_hot(label, num_classes=10).float() #.cuda()\n",
    "\n",
    "            outputs = model(inputs)\n",
    "            \n",
    "            loss = criterion(outputs, targets)\n",
    "            \n",
    "            test_loss += loss.item()\n",
    "\n",
    "    print(\"test loss: \", test_loss / len(testloader))\n"
   ]
  },
  {
   "cell_type": "code",
   "execution_count": null,
   "metadata": {},
   "outputs": [],
   "source": []
  }
 ],
 "metadata": {
  "kernelspec": {
   "display_name": "Python 3",
   "language": "python",
   "name": "python3"
  },
  "language_info": {
   "codemirror_mode": {
    "name": "ipython",
    "version": 3
   },
   "file_extension": ".py",
   "mimetype": "text/x-python",
   "name": "python",
   "nbconvert_exporter": "python",
   "pygments_lexer": "ipython3",
   "version": "3.10.13"
  }
 },
 "nbformat": 4,
 "nbformat_minor": 2
}
