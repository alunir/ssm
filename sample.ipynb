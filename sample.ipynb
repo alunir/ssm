{
 "cells": [
  {
   "cell_type": "code",
   "execution_count": 1,
   "metadata": {},
   "outputs": [
    {
     "name": "stdout",
     "output_type": "stream",
     "text": [
      "Requirement already satisfied: skorch in /opt/homebrew/lib/python3.11/site-packages (0.15.0)\n",
      "Requirement already satisfied: pytorch_lightning in /opt/homebrew/lib/python3.11/site-packages (2.2.0)\n",
      "Requirement already satisfied: einops in /opt/homebrew/lib/python3.11/site-packages (0.7.0)\n",
      "Requirement already satisfied: torcheval in /opt/homebrew/lib/python3.11/site-packages (0.0.7)\n",
      "Requirement already satisfied: numpy>=1.13.3 in /opt/homebrew/lib/python3.11/site-packages (from skorch) (1.24.3)\n",
      "Requirement already satisfied: scikit-learn>=0.22.0 in /opt/homebrew/lib/python3.11/site-packages (from skorch) (1.2.2)\n",
      "Requirement already satisfied: scipy>=1.1.0 in /opt/homebrew/lib/python3.11/site-packages (from skorch) (1.10.1)\n",
      "Requirement already satisfied: tabulate>=0.7.7 in /opt/homebrew/lib/python3.11/site-packages (from skorch) (0.9.0)\n",
      "Requirement already satisfied: tqdm>=4.14.0 in /opt/homebrew/lib/python3.11/site-packages (from skorch) (4.65.0)\n",
      "Requirement already satisfied: torch>=1.13.0 in /opt/homebrew/lib/python3.11/site-packages (from pytorch_lightning) (2.0.1)\n",
      "Requirement already satisfied: PyYAML>=5.4 in /opt/homebrew/lib/python3.11/site-packages (from pytorch_lightning) (6.0)\n",
      "Requirement already satisfied: fsspec>=2022.5.0 in /opt/homebrew/lib/python3.11/site-packages (from fsspec[http]>=2022.5.0->pytorch_lightning) (2023.5.0)\n",
      "Requirement already satisfied: torchmetrics>=0.7.0 in /opt/homebrew/lib/python3.11/site-packages (from pytorch_lightning) (1.3.0.post0)\n",
      "Requirement already satisfied: packaging>=20.0 in /opt/homebrew/lib/python3.11/site-packages (from pytorch_lightning) (23.1)\n",
      "Requirement already satisfied: typing-extensions>=4.4.0 in /opt/homebrew/lib/python3.11/site-packages (from pytorch_lightning) (4.5.0)\n",
      "Requirement already satisfied: lightning-utilities>=0.8.0 in /opt/homebrew/lib/python3.11/site-packages (from pytorch_lightning) (0.10.1)\n",
      "Requirement already satisfied: requests in /opt/homebrew/lib/python3.11/site-packages (from fsspec[http]>=2022.5.0->pytorch_lightning) (2.31.0)\n",
      "Requirement already satisfied: aiohttp!=4.0.0a0,!=4.0.0a1 in /opt/homebrew/lib/python3.11/site-packages (from fsspec[http]>=2022.5.0->pytorch_lightning) (3.8.4)\n",
      "Requirement already satisfied: setuptools in /opt/homebrew/lib/python3.11/site-packages (from lightning-utilities>=0.8.0->pytorch_lightning) (68.2.2)\n",
      "Requirement already satisfied: joblib>=1.1.1 in /opt/homebrew/lib/python3.11/site-packages (from scikit-learn>=0.22.0->skorch) (1.2.0)\n",
      "Requirement already satisfied: threadpoolctl>=2.0.0 in /opt/homebrew/lib/python3.11/site-packages (from scikit-learn>=0.22.0->skorch) (3.1.0)\n",
      "Requirement already satisfied: filelock in /opt/homebrew/lib/python3.11/site-packages (from torch>=1.13.0->pytorch_lightning) (3.12.0)\n",
      "Requirement already satisfied: sympy in /opt/homebrew/lib/python3.11/site-packages (from torch>=1.13.0->pytorch_lightning) (1.12)\n",
      "Requirement already satisfied: networkx in /opt/homebrew/lib/python3.11/site-packages (from torch>=1.13.0->pytorch_lightning) (3.1)\n",
      "Requirement already satisfied: jinja2 in /opt/homebrew/lib/python3.11/site-packages (from torch>=1.13.0->pytorch_lightning) (3.1.2)\n",
      "Requirement already satisfied: attrs>=17.3.0 in /opt/homebrew/lib/python3.11/site-packages (from aiohttp!=4.0.0a0,!=4.0.0a1->fsspec[http]>=2022.5.0->pytorch_lightning) (23.1.0)\n",
      "Requirement already satisfied: charset-normalizer<4.0,>=2.0 in /opt/homebrew/lib/python3.11/site-packages (from aiohttp!=4.0.0a0,!=4.0.0a1->fsspec[http]>=2022.5.0->pytorch_lightning) (2.1.1)\n",
      "Requirement already satisfied: multidict<7.0,>=4.5 in /opt/homebrew/lib/python3.11/site-packages (from aiohttp!=4.0.0a0,!=4.0.0a1->fsspec[http]>=2022.5.0->pytorch_lightning) (6.0.4)\n",
      "Requirement already satisfied: async-timeout<5.0,>=4.0.0a3 in /opt/homebrew/lib/python3.11/site-packages (from aiohttp!=4.0.0a0,!=4.0.0a1->fsspec[http]>=2022.5.0->pytorch_lightning) (4.0.2)\n",
      "Requirement already satisfied: yarl<2.0,>=1.0 in /opt/homebrew/lib/python3.11/site-packages (from aiohttp!=4.0.0a0,!=4.0.0a1->fsspec[http]>=2022.5.0->pytorch_lightning) (1.9.2)\n",
      "Requirement already satisfied: frozenlist>=1.1.1 in /opt/homebrew/lib/python3.11/site-packages (from aiohttp!=4.0.0a0,!=4.0.0a1->fsspec[http]>=2022.5.0->pytorch_lightning) (1.3.3)\n",
      "Requirement already satisfied: aiosignal>=1.1.2 in /opt/homebrew/lib/python3.11/site-packages (from aiohttp!=4.0.0a0,!=4.0.0a1->fsspec[http]>=2022.5.0->pytorch_lightning) (1.3.1)\n",
      "Requirement already satisfied: MarkupSafe>=2.0 in /opt/homebrew/lib/python3.11/site-packages (from jinja2->torch>=1.13.0->pytorch_lightning) (2.1.2)\n",
      "Requirement already satisfied: idna<4,>=2.5 in /opt/homebrew/lib/python3.11/site-packages (from requests->fsspec[http]>=2022.5.0->pytorch_lightning) (3.4)\n",
      "Requirement already satisfied: urllib3<3,>=1.21.1 in /opt/homebrew/lib/python3.11/site-packages (from requests->fsspec[http]>=2022.5.0->pytorch_lightning) (1.26.15)\n",
      "Requirement already satisfied: certifi>=2017.4.17 in /opt/homebrew/lib/python3.11/site-packages (from requests->fsspec[http]>=2022.5.0->pytorch_lightning) (2022.12.7)\n",
      "Requirement already satisfied: mpmath>=0.19 in /opt/homebrew/lib/python3.11/site-packages (from sympy->torch>=1.13.0->pytorch_lightning) (1.3.0)\n"
     ]
    }
   ],
   "source": [
    "!pip install skorch pytorch_lightning einops torcheval"
   ]
  },
  {
   "cell_type": "code",
   "execution_count": 2,
   "metadata": {},
   "outputs": [
    {
     "data": {
      "text/plain": [
       "tensor([[0, 0, 0, 0, 0, 1, 0, 0, 0, 0],\n",
       "        [0, 0, 1, 0, 0, 0, 0, 0, 0, 0]])"
      ]
     },
     "execution_count": 2,
     "metadata": {},
     "output_type": "execute_result"
    }
   ],
   "source": [
    "import torch\n",
    "import torch.nn.functional as F\n",
    "\n",
    "F.one_hot(torch.Tensor([5, 2]).to(torch.long), num_classes=10)"
   ]
  },
  {
   "cell_type": "code",
   "execution_count": 3,
   "metadata": {},
   "outputs": [],
   "source": [
    "import torch\n",
    "import torch.nn as nn\n",
    "import torch.nn.functional as F\n",
    "\n",
    "from torchvision import transforms\n",
    "from torchvision.datasets import MNIST\n",
    "\n",
    "\n",
    "def create_dataloader(batch_size):\n",
    "    # target_transform = transforms.Compose([\n",
    "    #     lambda x: print(\"hoge\"),\n",
    "    #     lambda x: print(x),\n",
    "    #     torch.tensor,\n",
    "    #     lambda x: F.one_hot(x, num_classes=10),\n",
    "    # ])\n",
    "    \n",
    "    data_train = torch.utils.data.DataLoader(\n",
    "        MNIST(\n",
    "            '~/mnist_data', train=True, download=True,\n",
    "            transform=transforms.Compose([\n",
    "                transforms.ToTensor\n",
    "            ]),\n",
    "            # target_transform=target_transform,\n",
    "        ),\n",
    "        batch_size=batch_size,\n",
    "        shuffle=True\n",
    "    )\n",
    "\n",
    "    data_test = torch.utils.data.DataLoader(\n",
    "        MNIST(\n",
    "            '~/mnist_data', train=False, download=True,\n",
    "            transform=transforms.Compose([\n",
    "                transforms.ToTensor\n",
    "            ]),\n",
    "            # target_transform=target_transform,\n",
    "        ),\n",
    "        batch_size=batch_size,\n",
    "        shuffle=True\n",
    "    )\n",
    "\n",
    "    return data_train, data_test\n"
   ]
  },
  {
   "cell_type": "code",
   "execution_count": 4,
   "metadata": {},
   "outputs": [
    {
     "name": "stdout",
     "output_type": "stream",
     "text": [
      "Downloading http://yann.lecun.com/exdb/mnist/train-images-idx3-ubyte.gz\n",
      "Failed to download (trying next):\n",
      "<urlopen error [Errno 8] nodename nor servname provided, or not known>\n",
      "\n",
      "Downloading https://ossci-datasets.s3.amazonaws.com/mnist/train-images-idx3-ubyte.gz\n",
      "Downloading https://ossci-datasets.s3.amazonaws.com/mnist/train-images-idx3-ubyte.gz to /Users/jimako/mnist_data/MNIST/raw/train-images-idx3-ubyte.gz\n"
     ]
    },
    {
     "name": "stderr",
     "output_type": "stream",
     "text": [
      "100%|██████████| 9912422/9912422 [00:04<00:00, 2025402.24it/s]\n"
     ]
    },
    {
     "name": "stdout",
     "output_type": "stream",
     "text": [
      "Extracting /Users/jimako/mnist_data/MNIST/raw/train-images-idx3-ubyte.gz to /Users/jimako/mnist_data/MNIST/raw\n",
      "\n",
      "Downloading http://yann.lecun.com/exdb/mnist/train-labels-idx1-ubyte.gz\n",
      "Failed to download (trying next):\n",
      "<urlopen error [Errno 8] nodename nor servname provided, or not known>\n",
      "\n",
      "Downloading https://ossci-datasets.s3.amazonaws.com/mnist/train-labels-idx1-ubyte.gz\n",
      "Downloading https://ossci-datasets.s3.amazonaws.com/mnist/train-labels-idx1-ubyte.gz to /Users/jimako/mnist_data/MNIST/raw/train-labels-idx1-ubyte.gz\n"
     ]
    },
    {
     "name": "stderr",
     "output_type": "stream",
     "text": [
      "100%|██████████| 28881/28881 [00:00<00:00, 157476.97it/s]\n"
     ]
    },
    {
     "name": "stdout",
     "output_type": "stream",
     "text": [
      "Extracting /Users/jimako/mnist_data/MNIST/raw/train-labels-idx1-ubyte.gz to /Users/jimako/mnist_data/MNIST/raw\n",
      "\n",
      "Downloading http://yann.lecun.com/exdb/mnist/t10k-images-idx3-ubyte.gz\n",
      "Failed to download (trying next):\n",
      "<urlopen error [Errno 8] nodename nor servname provided, or not known>\n",
      "\n",
      "Downloading https://ossci-datasets.s3.amazonaws.com/mnist/t10k-images-idx3-ubyte.gz\n",
      "Downloading https://ossci-datasets.s3.amazonaws.com/mnist/t10k-images-idx3-ubyte.gz to /Users/jimako/mnist_data/MNIST/raw/t10k-images-idx3-ubyte.gz\n"
     ]
    },
    {
     "name": "stderr",
     "output_type": "stream",
     "text": [
      "100%|██████████| 1648877/1648877 [00:01<00:00, 1610805.37it/s]\n"
     ]
    },
    {
     "name": "stdout",
     "output_type": "stream",
     "text": [
      "Extracting /Users/jimako/mnist_data/MNIST/raw/t10k-images-idx3-ubyte.gz to /Users/jimako/mnist_data/MNIST/raw\n",
      "\n",
      "Downloading http://yann.lecun.com/exdb/mnist/t10k-labels-idx1-ubyte.gz\n",
      "Failed to download (trying next):\n",
      "<urlopen error [Errno 8] nodename nor servname provided, or not known>\n",
      "\n",
      "Downloading https://ossci-datasets.s3.amazonaws.com/mnist/t10k-labels-idx1-ubyte.gz\n",
      "Downloading https://ossci-datasets.s3.amazonaws.com/mnist/t10k-labels-idx1-ubyte.gz to /Users/jimako/mnist_data/MNIST/raw/t10k-labels-idx1-ubyte.gz\n"
     ]
    },
    {
     "name": "stderr",
     "output_type": "stream",
     "text": [
      "100%|██████████| 4542/4542 [00:00<00:00, 2596855.07it/s]"
     ]
    },
    {
     "name": "stdout",
     "output_type": "stream",
     "text": [
      "Extracting /Users/jimako/mnist_data/MNIST/raw/t10k-labels-idx1-ubyte.gz to /Users/jimako/mnist_data/MNIST/raw\n",
      "\n"
     ]
    },
    {
     "name": "stderr",
     "output_type": "stream",
     "text": [
      "\n"
     ]
    }
   ],
   "source": [
    "batch_size = 64\n",
    "\n",
    "trainloader, testloader = create_dataloader(batch_size=batch_size)"
   ]
  },
  {
   "cell_type": "code",
   "execution_count": 5,
   "metadata": {},
   "outputs": [
    {
     "name": "stderr",
     "output_type": "stream",
     "text": [
      "/opt/homebrew/lib/python3.11/site-packages/tqdm/auto.py:21: TqdmWarning: IProgress not found. Please update jupyter and ipywidgets. See https://ipywidgets.readthedocs.io/en/stable/user_install.html\n",
      "  from .autonotebook import tqdm as notebook_tqdm\n",
      "CUDA extension for structured kernels (Cauchy and Vandermonde multiplication) not found. Install by going to extensions/kernels/ and running `python setup.py install`, for improved speed and memory efficiency. Note that the kernel changed for state-spaces 4.0 and must be recompiled.\n",
      "Falling back on slow Cauchy and Vandermonde kernel. Install at least one of pykeops or the CUDA extension for better speed and memory efficiency.\n"
     ]
    },
    {
     "name": "stdout",
     "output_type": "stream",
     "text": [
      "No module named 'extensions'\n"
     ]
    }
   ],
   "source": [
    "from s4.skorch import S4Classifier\n",
    "\n",
    "model = S4Classifier(\n",
    "    max_epochs=10,\n",
    "    optimizer=torch.optim.Adam,\n",
    "    lr=0.001,\n",
    "    batch_size=batch_size,\n",
    "    criterion=nn.CrossEntropyLoss,\n",
    "    d_input=784,\n",
    "    d_output=10,\n",
    "    d_model=512,\n",
    "    n_layers=3,\n",
    "    dropout=[0.2]*3,\n",
    "    transposed=False,\n",
    "    s4d=True,\n",
    ")"
   ]
  },
  {
   "cell_type": "code",
   "execution_count": 6,
   "metadata": {},
   "outputs": [
    {
     "data": {
      "text/plain": [
       "<class 's4.skorch.S4Classifier'>[uninitialized](\n",
       "  module=SingleS4Classifier(\n",
       "    (encoder): Sequential(\n",
       "      (0): Linear(in_features=784, out_features=512, bias=True)\n",
       "      (1): GELU(approximate='none')\n",
       "    )\n",
       "    (decoder): Sequential(\n",
       "      (0): Linear(in_features=512, out_features=10, bias=True)\n",
       "      (1): LogSoftmax(dim=1)\n",
       "    )\n",
       "  ),\n",
       ")"
      ]
     },
     "execution_count": 6,
     "metadata": {},
     "output_type": "execute_result"
    }
   ],
   "source": [
    "model"
   ]
  },
  {
   "cell_type": "code",
   "execution_count": 5,
   "metadata": {},
   "outputs": [],
   "source": [
    "import numpy as np\n",
    "\n",
    "X_train = trainloader.dataset.data.view(-1, 784).numpy().astype(np.float32)\n",
    "y_train = F.one_hot(trainloader.dataset.targets, num_classes=10).view(-1, 10).numpy().astype(np.float32)\n",
    "\n",
    "X_test = testloader.dataset.data.view(-1, 784).numpy().astype(np.float32)\n",
    "y_test = F.one_hot(testloader.dataset.targets, num_classes=10).view(-1, 10).numpy().astype(np.float32)"
   ]
  },
  {
   "cell_type": "code",
   "execution_count": 8,
   "metadata": {},
   "outputs": [
    {
     "name": "stdout",
     "output_type": "stream",
     "text": [
      "  epoch    train_loss    valid_loss      dur\n",
      "-------  ------------  ------------  -------\n",
      "      1        \u001b[36m1.6470\u001b[0m        \u001b[32m1.1495\u001b[0m  47.5857\n",
      "      2        \u001b[36m1.1162\u001b[0m        \u001b[32m1.0746\u001b[0m  48.1060\n",
      "      3        \u001b[36m1.0811\u001b[0m        \u001b[32m1.0703\u001b[0m  46.6298\n",
      "      4        \u001b[36m1.0542\u001b[0m        \u001b[32m1.0533\u001b[0m  47.9270\n",
      "      5        \u001b[36m1.0386\u001b[0m        1.0815  46.0384\n",
      "      6        \u001b[36m1.0291\u001b[0m        1.0604  45.8468\n",
      "      7        \u001b[36m1.0266\u001b[0m        \u001b[32m1.0396\u001b[0m  44.7378\n",
      "      8        \u001b[36m1.0106\u001b[0m        \u001b[32m1.0246\u001b[0m  45.1809\n",
      "      9        \u001b[36m1.0084\u001b[0m        1.0480  45.6608\n",
      "     10        \u001b[36m0.9982\u001b[0m        1.0692  45.0144\n"
     ]
    },
    {
     "data": {
      "text/plain": [
       "<class 's4.skorch.S4Classifier'>[initialized](\n",
       "  module_=SingleS4Classifier(\n",
       "    (encoder): Sequential(\n",
       "      (0): Linear(in_features=784, out_features=512, bias=True)\n",
       "      (1): GELU(approximate='none')\n",
       "    )\n",
       "    (decoder): Sequential(\n",
       "      (0): Linear(in_features=512, out_features=10, bias=True)\n",
       "      (1): LogSoftmax(dim=1)\n",
       "    )\n",
       "  ),\n",
       ")"
      ]
     },
     "execution_count": 8,
     "metadata": {},
     "output_type": "execute_result"
    }
   ],
   "source": [
    "model.fit(X_train, y_train)"
   ]
  },
  {
   "cell_type": "code",
   "execution_count": 9,
   "metadata": {},
   "outputs": [],
   "source": [
    "pred = model.predict(X_test)"
   ]
  },
  {
   "cell_type": "code",
   "execution_count": 10,
   "metadata": {},
   "outputs": [
    {
     "name": "stdout",
     "output_type": "stream",
     "text": [
      "{'accuracy': 0.6733999848365784,\n",
      " 'f1_score': 0.6733999848365784,\n",
      " 'precision': 0.6733999848365784,\n",
      " 'recall': 0.6733999848365784}\n"
     ]
    }
   ],
   "source": [
    "from pprint import pprint\n",
    "\n",
    "from torcheval.metrics.functional import multiclass_accuracy\n",
    "from torcheval.metrics.functional import multiclass_precision\n",
    "from torcheval.metrics.functional import multiclass_recall\n",
    "from torcheval.metrics.functional import multiclass_f1_score\n",
    "\n",
    "p = {\n",
    "    \"input\": torch.argmax(torch.Tensor(pred), dim=1),\n",
    "    \"target\": torch.argmax(torch.Tensor(y_test), dim=1),\n",
    "    \"num_classes\": 10\n",
    "}\n",
    "\n",
    "pprint({\n",
    "    \"accuracy\": multiclass_accuracy(**p).item(),\n",
    "    \"precision\": multiclass_precision(**p).item(),\n",
    "    \"recall\": multiclass_recall(**p).item(),\n",
    "    \"f1_score\": multiclass_f1_score(**p).item(),\n",
    "})"
   ]
  },
  {
   "cell_type": "code",
   "execution_count": null,
   "metadata": {},
   "outputs": [],
   "source": []
  }
 ],
 "metadata": {
  "kernelspec": {
   "display_name": "Python 3",
   "language": "python",
   "name": "python3"
  },
  "language_info": {
   "codemirror_mode": {
    "name": "ipython",
    "version": 3
   },
   "file_extension": ".py",
   "mimetype": "text/x-python",
   "name": "python",
   "nbconvert_exporter": "python",
   "pygments_lexer": "ipython3",
   "version": "3.10.13"
  }
 },
 "nbformat": 4,
 "nbformat_minor": 2
}
